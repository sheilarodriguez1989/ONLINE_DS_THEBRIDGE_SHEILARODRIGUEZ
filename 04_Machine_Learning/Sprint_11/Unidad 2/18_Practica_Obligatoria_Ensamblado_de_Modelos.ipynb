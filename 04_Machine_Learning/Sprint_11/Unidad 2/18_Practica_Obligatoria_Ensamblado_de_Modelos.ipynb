{
 "cells": [
  {
   "cell_type": "markdown",
   "metadata": {},
   "source": [
    "## PRACTICA OBLIGATORIA: **Ensamblado de modelos, bagging, boosting, random forest y gbts**"
   ]
  },
  {
   "cell_type": "markdown",
   "metadata": {},
   "source": [
    "* La práctica obligatoria de esta unidad consiste en un único ejercicio de obtención del mejor modelo para la resolución de un problema de clasificación sobre diabetes en la india. Descarga este notebook en tu ordenador y trabaja en local. Ten en cuenta que tendrás que descar los directorios de imágenes y datos adicionales, si los hubiera.\n",
    "* Recuerda que debes subirla a tu repositorio personal antes de la sesión en vivo para que puntúe adecuadamente.  \n",
    "* Recuerda también que no es necesario que esté perfecta, sólo es necesario que se vea el esfuerzo. \n",
    "* Esta práctica se resolverá en la sesión en vivo correspondiente y la solución se publicará en el repo del curso. "
   ]
  },
  {
   "cell_type": "markdown",
   "metadata": {},
   "source": [
    "### Ejercicio 0"
   ]
  },
  {
   "cell_type": "markdown",
   "metadata": {},
   "source": [
    "Importa los paquetes y módulos que necesites a lo largo del notebook."
   ]
  },
  {
   "cell_type": "code",
   "execution_count": 73,
   "metadata": {},
   "outputs": [],
   "source": [
    "import pandas as pd\n",
    "import numpy as np\n",
    "import matplotlib.pyplot as plt\n",
    "import seaborn as sns\n",
    "import matplotlib.pyplot as plt\n",
    "\n",
    "from catboost import CatBoostClassifier\n",
    "from sklearn.ensemble import AdaBoostClassifier\n",
    "from lightgbm import LGBMClassifier\n",
    "from sklearn.metrics import classification_report,accuracy_score, precision_score, recall_score, f1_score\n",
    "from sklearn.ensemble import RandomForestClassifier, GradientBoostingClassifier\n",
    "from sklearn.model_selection import train_test_split,GridSearchCV\n",
    "from sklearn.linear_model import LogisticRegression\n",
    "from sklearn.metrics import confusion_matrix\n",
    "from xgboost import XGBClassifier\n",
    "from sklearn.tree import DecisionTreeClassifier\n",
    "from sklearn.model_selection import cross_val_score\n"
   ]
  },
  {
   "cell_type": "markdown",
   "metadata": {},
   "source": [
    "### Descripción del dataset"
   ]
  },
  {
   "cell_type": "markdown",
   "metadata": {},
   "source": [
    "El dataset de los Pima Indians Diabetes contiene datos de un grupo de mujeres de al menos 21 años de edad de ascendencia india Pima que viven cerca de Phoenix, Arizona, EE. UU. Las características del dataset incluyen varios predictores médicos y un objetivo que indica si la paciente desarrolló diabetes dentro de cinco años.\n",
    "\n",
    "### Características del Dataset\n",
    "\n",
    "Las variables incluidas en el dataset son:\n",
    "\n",
    "1. **Número de Embarazos**: Cantidad de veces embarazada.\n",
    "2. **Concentración de Glucosa en Plasma**: Concentración de glucosa en plasma a 2 horas en una prueba de tolerancia oral a la glucosa.\n",
    "3. **Presión Arterial Diastólica**: Presión arterial diastólica (mm Hg).\n",
    "4. **Grosor del Pliegue Cutáneo del Tríceps**: Grosor del pliegue cutáneo del tríceps (mm).\n",
    "5. **Insulina en Suero**: Insulina en suero a 2 horas (mu U/ml).\n",
    "6. **Índice de Masa Corporal**: Peso en kg/(altura en m)^2.\n",
    "7. **Función del Pedigree de Diabetes**: Una función que representa la predisposición genética a la diabetes.\n",
    "8. **Edad**: Edad en años.\n",
    "9. **Variable Objetivo**: Indica si la paciente desarrolló diabetes (1) o no (0)."
   ]
  },
  {
   "cell_type": "markdown",
   "metadata": {},
   "source": [
    "### Carga de datos\n",
    "\n",
    "El dataset lo puedes encontrar en la siguiente url y a continuación se proporciona una lista de nombres sugeridos para las columnas:\n"
   ]
  },
  {
   "cell_type": "code",
   "execution_count": 74,
   "metadata": {},
   "outputs": [],
   "source": [
    "url = \"https://raw.githubusercontent.com/jbrownlee/Datasets/master/pima-indians-diabetes.data.csv\"\n",
    "\n",
    "names = ['preg', 'plas', 'pres', 'skin', 'test', 'mass', 'pedi', 'age', 'class']"
   ]
  },
  {
   "cell_type": "markdown",
   "metadata": {},
   "source": [
    "### Enunciado\n",
    "\n",
    "Construye el mejor modelo que puedas para predecir a partir de los datos de entrada si una mujer de la tribu Pima desarrollará diabetes. Para ello obtén al menoss tres modelos a partir de tecnologías de bagging y boosting (al menos uno de cada), compáralos sin utilizar el test y selecciona uno de ellos como el mejor (justificándolo). Termina el ejercicio probando el modelo seleccionado y con sus hiperparámetros optimizados contra un dataset de test que deberás haber reservado con anterioridad."
   ]
  },
  {
   "cell_type": "code",
   "execution_count": 75,
   "metadata": {},
   "outputs": [
    {
     "name": "stdout",
     "output_type": "stream",
     "text": [
      "   preg  plas  pres  skin  test  mass   pedi  age  class\n",
      "0     6   148    72    35     0  33.6  0.627   50      1\n",
      "1     1    85    66    29     0  26.6  0.351   31      0\n",
      "2     8   183    64     0     0  23.3  0.672   32      1\n",
      "3     1    89    66    23    94  28.1  0.167   21      0\n",
      "4     0   137    40    35   168  43.1  2.288   33      1\n",
      "<class 'pandas.core.frame.DataFrame'>\n",
      "RangeIndex: 768 entries, 0 to 767\n",
      "Data columns (total 9 columns):\n",
      " #   Column  Non-Null Count  Dtype  \n",
      "---  ------  --------------  -----  \n",
      " 0   preg    768 non-null    int64  \n",
      " 1   plas    768 non-null    int64  \n",
      " 2   pres    768 non-null    int64  \n",
      " 3   skin    768 non-null    int64  \n",
      " 4   test    768 non-null    int64  \n",
      " 5   mass    768 non-null    float64\n",
      " 6   pedi    768 non-null    float64\n",
      " 7   age     768 non-null    int64  \n",
      " 8   class   768 non-null    int64  \n",
      "dtypes: float64(2), int64(7)\n",
      "memory usage: 54.1 KB\n",
      "None\n",
      "             preg        plas        pres        skin        test        mass  \\\n",
      "count  768.000000  768.000000  768.000000  768.000000  768.000000  768.000000   \n",
      "mean     3.845052  120.894531   69.105469   20.536458   79.799479   31.992578   \n",
      "std      3.369578   31.972618   19.355807   15.952218  115.244002    7.884160   \n",
      "min      0.000000    0.000000    0.000000    0.000000    0.000000    0.000000   \n",
      "25%      1.000000   99.000000   62.000000    0.000000    0.000000   27.300000   \n",
      "50%      3.000000  117.000000   72.000000   23.000000   30.500000   32.000000   \n",
      "75%      6.000000  140.250000   80.000000   32.000000  127.250000   36.600000   \n",
      "max     17.000000  199.000000  122.000000   99.000000  846.000000   67.100000   \n",
      "\n",
      "             pedi         age       class  \n",
      "count  768.000000  768.000000  768.000000  \n",
      "mean     0.471876   33.240885    0.348958  \n",
      "std      0.331329   11.760232    0.476951  \n",
      "min      0.078000   21.000000    0.000000  \n",
      "25%      0.243750   24.000000    0.000000  \n",
      "50%      0.372500   29.000000    0.000000  \n",
      "75%      0.626250   41.000000    1.000000  \n",
      "max      2.420000   81.000000    1.000000  \n"
     ]
    }
   ],
   "source": [
    "#Cargo el dataset y le echo un vistazo\n",
    "# Cargar el dataset desde la URL\n",
    "\n",
    "data = pd.read_csv(url, names=names)\n",
    "\n",
    "# Visualizar las primeras filas del dataset\n",
    "print(data.head())\n",
    "\n",
    "# Ver información general sobre el dataset\n",
    "print(data.info())\n",
    "\n",
    "# Descripción estadística de las variables\n",
    "print(data.describe())"
   ]
  },
  {
   "cell_type": "markdown",
   "metadata": {},
   "source": [
    "RangeIndex: Tenemos 768 registros en 9 columnas. No hay valores nulos en principio y todos son enteros o float.\n",
    "7 columnas son eneteros (preg, plas, pres, skin, test, age y class) y 2 son float (mass y pedi). La variable objetivo es class y está en formato int (son ceros y unos)\n",
    "Algún problema:\n",
    "plas (glucosa): tiene valores 0 lo cual no tiene sentido\n",
    "pres (presión arterial): tampoco puede ser 0\n",
    "skin (pliegue cutáneo): podría haber nulos por mala medición y también hay algún cero, no paraece posible que haya gente \"sin pliegue\"\n",
    "test (insulina): también tiene valores 0, no puede ser.\n",
    "Parece que class está desbalanceado porque la media es 0.35, lo que quiere decir que sólo el 35% de los casos son diabéticos, son unos. "
   ]
  },
  {
   "cell_type": "code",
   "execution_count": 76,
   "metadata": {},
   "outputs": [
    {
     "data": {
      "image/png": "[encoded data removed]",
      "text/plain": [
       "<Figure size 1200x800 with 9 Axes>"
      ]
     },
     "metadata": {},
     "output_type": "display_data"
    }
   ],
   "source": [
    "# Visualización de todas las variables numéricas\n",
    "def plot_dataset(data):\n",
    "    data.hist(figsize=(12, 8), bins=30)\n",
    "    plt.suptitle(\"Distribución de las variables médicas\", fontsize=16)\n",
    "    plt.show()\n",
    "\n",
    "plot_dataset(data)"
   ]
  },
  {
   "cell_type": "markdown",
   "metadata": {},
   "source": [
    "preg es claramente categórica. Podríamos agrupar en 0 embarazos, 1 y 2 embarazos, de 3 a 5 y 6 o más embarazos para no tener tantísimas categorías.  \n",
    "Ya hemos visto que plas tiene 0 y que no tiene sentido. Los tenemos que poner cono NaN y tratarlos como faltantes.  \n",
    "Pres tieen un pico en 0 que no tiene ningún sentido. También los sustituiré por NaN.  \n",
    "Fuerte pico en 0 para skin. Hay que decidir cómo manejar los faltantes, en principio les pondré NaN pero hay muchísimos.  \n",
    "Lo mismo pasa con test.  \n",
    "Mass se pueden poner los ceros como NaN y dejarla tal cual está.  \n",
    "pedi y age se cargarán como están.\n",
    "\n",
    "\n"
   ]
  },
  {
   "cell_type": "code",
   "execution_count": 77,
   "metadata": {},
   "outputs": [
    {
     "data": {
      "image/png": "[encoded data removed]",
      "text/plain": [
       "<Figure size 600x400 with 1 Axes>"
      ]
     },
     "metadata": {},
     "output_type": "display_data"
    }
   ],
   "source": [
    "#Veamos las frecuencias relativas de class:\n",
    "# Calculamos la proporción de cada clase\n",
    "class_counts = data['class'].value_counts(normalize=True) * 100\n",
    "\n",
    "# Graficamos la distribución\n",
    "plt.figure(figsize=(6,4))\n",
    "sns.barplot(x=class_counts.index, y=class_counts.values, hue=class_counts.index, palette=\"Blues\", legend=False)\n",
    "\n",
    "# Añadimos etiquetas\n",
    "plt.xlabel(\"Clase (0 = No diabetes, 1 = Diabetes)\")\n",
    "plt.ylabel(\"Frecuencia relativa (%)\")\n",
    "plt.title(\"Distribución de la variable objetivo `class`\")\n",
    "plt.xticks([0, 1], [\"No diabetes\", \"Diabetes\"])\n",
    "plt.ylim(0, 100)\n",
    "plt.show()"
   ]
  },
  {
   "cell_type": "markdown",
   "metadata": {},
   "source": [
    "Como se decía antes está algo desbalanceada."
   ]
  },
  {
   "cell_type": "code",
   "execution_count": 78,
   "metadata": {},
   "outputs": [
    {
     "name": "stdout",
     "output_type": "stream",
     "text": [
      "preg       0\n",
      "plas       5\n",
      "pres      35\n",
      "skin     227\n",
      "test     374\n",
      "mass      11\n",
      "pedi       0\n",
      "age        0\n",
      "class      0\n",
      "dtype: int64\n"
     ]
    }
   ],
   "source": [
    "#sustituyo los 0 por NaN\n",
    "# Variables que tienen valores 0 como datos faltantes\n",
    "columns_to_replace = ['plas', 'pres', 'skin', 'test', 'mass']\n",
    "\n",
    "# Sustituimos los 0 por NaN\n",
    "data[columns_to_replace] = data[columns_to_replace].replace(0, np.nan)\n",
    "\n",
    "# Verificamos cuántos valores NaN hay ahora\n",
    "print(data.isnull().sum())"
   ]
  },
  {
   "cell_type": "code",
   "execution_count": 79,
   "metadata": {},
   "outputs": [
    {
     "name": "stdout",
     "output_type": "stream",
     "text": [
      "preg     0\n",
      "plas     0\n",
      "pres     0\n",
      "skin     0\n",
      "test     0\n",
      "mass     0\n",
      "pedi     0\n",
      "age      0\n",
      "class    0\n",
      "dtype: int64\n"
     ]
    }
   ],
   "source": [
    "# Variables que tienen valores 0 como datos faltantes\n",
    "columns_to_replace_mean = ['plas', 'pres', 'mass']\n",
    "columns_to_replace_median = ['skin', 'test']\n",
    "\n",
    "# Imputación por media\n",
    "data.update(data[columns_to_replace_mean].apply(lambda col: col.fillna(col.mean())))\n",
    "\n",
    "# Imputación por mediana\n",
    "data.update(data[columns_to_replace_median].apply(lambda col: col.fillna(col.median())))\n",
    "\n",
    "# Verificamos que ya no haya valores NaN\n",
    "print(data.isnull().sum())"
   ]
  },
  {
   "cell_type": "code",
   "execution_count": 80,
   "metadata": {},
   "outputs": [
    {
     "name": "stdout",
     "output_type": "stream",
     "text": [
      "Tamaño de Train: 614 muestras\n",
      "Tamaño de Test: 154 muestras\n"
     ]
    }
   ],
   "source": [
    "#Divido en train y test\n",
    "\n",
    "# Definimos la variable objetivo y las características\n",
    "X = data.drop(columns=['class'])  # Variables predictoras\n",
    "y = data['class']  # Variable objetivo\n",
    "\n",
    "# Dividimos en 80% train, 20% test\n",
    "X_train, X_test, y_train, y_test = train_test_split(X, y, test_size=0.2, random_state=42, stratify=y)\n",
    "\n",
    "# Verificamos tamaños\n",
    "print(f\"Tamaño de Train: {X_train.shape[0]} muestras\")\n",
    "print(f\"Tamaño de Test: {X_test.shape[0]} muestras\")"
   ]
  },
  {
   "cell_type": "code",
   "execution_count": 81,
   "metadata": {},
   "outputs": [],
   "source": [
    "#Entreno el modelo base\n",
    "\n",
    "# Creamos el modelo de regresión logística\n",
    "logistic_model = LogisticRegression(max_iter=1000, random_state=42)\n",
    "\n",
    "# Entrenamos el modelo\n",
    "logistic_model.fit(X_train, y_train)\n",
    "\n",
    "# Ahora podemos hacer predicciones\n",
    "y_pred_base = logistic_model.predict(X_test)"
   ]
  },
  {
   "cell_type": "markdown",
   "metadata": {},
   "source": [
    "Rendimiento del modelo base: regresión logística. Matriz de confusión"
   ]
  },
  {
   "cell_type": "code",
   "execution_count": 82,
   "metadata": {},
   "outputs": [
    {
     "data": {
      "image/png": "[encoded data removed]",
      "text/plain": [
       "<Figure size 600x400 with 2 Axes>"
      ]
     },
     "metadata": {},
     "output_type": "display_data"
    }
   ],
   "source": [
    "# Predicción con el modelo base\n",
    "y_pred_base = logistic_model.predict(X_test)\n",
    "\n",
    "# Calculamos la matriz de confusión\n",
    "conf_matrix = confusion_matrix(y_test, y_pred_base)\n",
    "\n",
    "# Visualizamos la matriz de confusión\n",
    "plt.figure(figsize=(6, 4))\n",
    "sns.heatmap(conf_matrix, annot=True, fmt=\"d\", cmap=\"Blues\", xticklabels=['No diabetes', 'Diabetes'], yticklabels=['No diabetes', 'Diabetes'])\n",
    "plt.xlabel(\"Predicción\")\n",
    "plt.ylabel(\"Real\")\n",
    "plt.title(\"Matriz de Confusión - Regresión Logística\")\n",
    "plt.show()"
   ]
  },
  {
   "cell_type": "markdown",
   "metadata": {},
   "source": [
    "81 No diabéticos predichos como no diabéticos: buena capacidad de identificar pacientes sin diabetes  \n",
    "27 diabéticos que eran diabéticos: Detecta correctamente la diabetes en elgunos casos.  \n",
    "19 falsos positivos: el modelo es demasiado agresivo al predecir personas con diabetes  \n",
    "27 falsos negativos: el modelo falla en detectar algunos casos de diabetes.  \n",
    "\n",
    "El modelo base no es muy bueno."
   ]
  },
  {
   "cell_type": "code",
   "execution_count": 83,
   "metadata": {},
   "outputs": [
    {
     "name": "stdout",
     "output_type": "stream",
     "text": [
      "Accuracy: 0.7013\n",
      "Precision: 0.5870\n",
      "Recall: 0.5000\n",
      "F1-Score: 0.5400\n"
     ]
    }
   ],
   "source": [
    "# Cálculo de métricas\n",
    "accuracy = accuracy_score(y_test, y_pred_base)\n",
    "precision = precision_score(y_test, y_pred_base)\n",
    "recall = recall_score(y_test, y_pred_base)\n",
    "f1 = f1_score(y_test, y_pred_base)\n",
    "\n",
    "# Mostramos los resultados\n",
    "print(f\"Accuracy: {accuracy:.4f}\")\n",
    "print(f\"Precision: {precision:.4f}\")\n",
    "print(f\"Recall: {recall:.4f}\")\n",
    "print(f\"F1-Score: {f1:.4f}\")"
   ]
  },
  {
   "cell_type": "markdown",
   "metadata": {},
   "source": [
    "Con un accuracy de 70% el modelo clasifica bien la mayoría de los casos aunque no es un valor suficientemente alto teniendo en cuenta que se trata de la salud de las personas.  \n",
    "Precission 58% , de las predicciones de diabetes sólo el 58% son correctas.  \n",
    "Recall 50%: Sólo detecta la mitad de los casos reales de diabetes. No es suficiente.  \n",
    "F1-Score 54%: Balance entre precision y recall confirmando que el modelo no captura bien los casos de diabetes."
   ]
  },
  {
   "cell_type": "markdown",
   "metadata": {},
   "source": [
    "Voy a probar Random Forest:"
   ]
  },
  {
   "cell_type": "code",
   "execution_count": 84,
   "metadata": {},
   "outputs": [
    {
     "name": "stdout",
     "output_type": "stream",
     "text": [
      "Accuracy (RF): 0.7403\n",
      "Precision (RF): 0.6400\n",
      "Recall (RF): 0.5926\n",
      "F1-Score (RF): 0.6154\n"
     ]
    }
   ],
   "source": [
    "# Creamos el modelo de Random Forest\n",
    "rf_model = RandomForestClassifier(n_estimators=100, random_state=42, class_weight='balanced')\n",
    "\n",
    "# Entrenamos el modelo con los datos de entrenamiento\n",
    "rf_model.fit(X_train, y_train)\n",
    "\n",
    "# Predicción en el conjunto de prueba\n",
    "y_pred_rf = rf_model.predict(X_test)\n",
    "\n",
    "# Evaluamos las métricas\n",
    "from sklearn.metrics import accuracy_score, precision_score, recall_score, f1_score\n",
    "\n",
    "accuracy_rf = accuracy_score(y_test, y_pred_rf)\n",
    "precision_rf = precision_score(y_test, y_pred_rf)\n",
    "recall_rf = recall_score(y_test, y_pred_rf)\n",
    "f1_rf = f1_score(y_test, y_pred_rf)\n",
    "\n",
    "# Mostramos los resultados\n",
    "print(f\"Accuracy (RF): {accuracy_rf:.4f}\")\n",
    "print(f\"Precision (RF): {precision_rf:.4f}\")\n",
    "print(f\"Recall (RF): {recall_rf:.4f}\")\n",
    "print(f\"F1-Score (RF): {f1_rf:.4f}\")"
   ]
  },
  {
   "cell_type": "markdown",
   "metadata": {},
   "source": [
    "### 🔎 Comparación de modelos\n",
    "\n",
    "| Métrica       | Regresión Logística | Random Forest |\n",
    "|--------------|-------------------|--------------|\n",
    "| **Accuracy**  | 70.13%             | **74.03%**  |\n",
    "| **Precision** | 58.70%             | **64.00%**  |\n",
    "| **Recall**    | 50.00%             | **59.26%**  |\n",
    "| **F1-Score**  | 54.00%             | **61.54%**  |"
   ]
  },
  {
   "cell_type": "markdown",
   "metadata": {},
   "source": [
    "Como se puede ver todos los parámetros han mejorado con Random Forest."
   ]
  },
  {
   "cell_type": "code",
   "execution_count": 85,
   "metadata": {},
   "outputs": [
    {
     "data": {
      "text/plain": [
       "array([0.07543797, 0.27159585, 0.07855719, 0.07390273, 0.09361048,\n",
       "       0.17086339, 0.11703008, 0.11900231])"
      ]
     },
     "execution_count": 85,
     "metadata": {},
     "output_type": "execute_result"
    }
   ],
   "source": [
    "#Feature Importance\n",
    "\n",
    "rf_model.feature_importances_\n"
   ]
  },
  {
   "cell_type": "code",
   "execution_count": 86,
   "metadata": {},
   "outputs": [
    {
     "data": {
      "text/plain": [
       "<Axes: >"
      ]
     },
     "execution_count": 86,
     "metadata": {},
     "output_type": "execute_result"
    },
    {
     "data": {
      "image/png": "[encoded data removed]",
      "text/plain": [
       "<Figure size 640x480 with 1 Axes>"
      ]
     },
     "metadata": {},
     "output_type": "display_data"
    }
   ],
   "source": [
    "classes = X.columns.values.tolist()\n",
    "sns.barplot(x=classes, y=rf_model.feature_importances_, hue = classes) #hue no es necesario ya que todas las barras representan diferentes características y no son categorías dentro de una variable."
   ]
  },
  {
   "cell_type": "markdown",
   "metadata": {},
   "source": [
    "Como se puede ver la feature más importante es plas seguida de mass. También se ha de considerar pedi y age como mínimo en los modelos aunque yo voy a poner todo."
   ]
  },
  {
   "cell_type": "markdown",
   "metadata": {},
   "source": [
    "Voy a buscar la mejor combinación de hiperparámetros para Random Forest con Grid Search"
   ]
  },
  {
   "cell_type": "code",
   "execution_count": 87,
   "metadata": {},
   "outputs": [
    {
     "data": {
      "text/html": [
       "<style>#sk-container-id-2 {\n",
       "  /* Definition of color scheme common for light and dark mode */\n",
       "  --sklearn-color-text: #000;\n",
       "  --sklearn-color-text-muted: #666;\n",
       "  --sklearn-color-line: gray;\n",
       "  /* Definition of color scheme for unfitted estimators */\n",
       "  --sklearn-color-unfitted-level-0: #fff5e6;\n",
       "  --sklearn-color-unfitted-level-1: #f6e4d2;\n",
       "  --sklearn-color-unfitted-level-2: #ffe0b3;\n",
       "  --sklearn-color-unfitted-level-3: chocolate;\n",
       "  /* Definition of color scheme for fitted estimators */\n",
       "  --sklearn-color-fitted-level-0: #f0f8ff;\n",
       "  --sklearn-color-fitted-level-1: #d4ebff;\n",
       "  --sklearn-color-fitted-level-2: #b3dbfd;\n",
       "  --sklearn-color-fitted-level-3: cornflowerblue;\n",
       "\n",
       "  /* Specific color for light theme */\n",
       "  --sklearn-color-text-on-default-background: var(--sg-text-color, var(--theme-code-foreground, var(--jp-content-font-color1, black)));\n",
       "  --sklearn-color-background: var(--sg-background-color, var(--theme-background, var(--jp-layout-color0, white)));\n",
       "  --sklearn-color-border-box: var(--sg-text-color, var(--theme-code-foreground, var(--jp-content-font-color1, black)));\n",
       "  --sklearn-color-icon: #696969;\n",
       "\n",
       "  @media (prefers-color-scheme: dark) {\n",
       "    /* Redefinition of color scheme for dark theme */\n",
       "    --sklearn-color-text-on-default-background: var(--sg-text-color, var(--theme-code-foreground, var(--jp-content-font-color1, white)));\n",
       "    --sklearn-color-background: var(--sg-background-color, var(--theme-background, var(--jp-layout-color0, #111)));\n",
       "    --sklearn-color-border-box: var(--sg-text-color, var(--theme-code-foreground, var(--jp-content-font-color1, white)));\n",
       "    --sklearn-color-icon: #878787;\n",
       "  }\n",
       "}\n",
       "\n",
       "#sk-container-id-2 {\n",
       "  color: var(--sklearn-color-text);\n",
       "}\n",
       "\n",
       "#sk-container-id-2 pre {\n",
       "  padding: 0;\n",
       "}\n",
       "\n",
       "#sk-container-id-2 input.sk-hidden--visually {\n",
       "  border: 0;\n",
       "  clip: rect(1px 1px 1px 1px);\n",
       "  clip: rect(1px, 1px, 1px, 1px);\n",
       "  height: 1px;\n",
       "  margin: -1px;\n",
       "  overflow: hidden;\n",
       "  padding: 0;\n",
       "  position: absolute;\n",
       "  width: 1px;\n",
       "}\n",
       "\n",
       "#sk-container-id-2 div.sk-dashed-wrapped {\n",
       "  border: 1px dashed var(--sklearn-color-line);\n",
       "  margin: 0 0.4em 0.5em 0.4em;\n",
       "  box-sizing: border-box;\n",
       "  padding-bottom: 0.4em;\n",
       "  background-color: var(--sklearn-color-background);\n",
       "}\n",
       "\n",
       "#sk-container-id-2 div.sk-container {\n",
       "  /* jupyter's `normalize.less` sets `[hidden] { display: none; }`\n",
       "     but bootstrap.min.css set `[hidden] { display: none !important; }`\n",
       "     so we also need the `!important` here to be able to override the\n",
       "     default hidden behavior on the sphinx rendered scikit-learn.org.\n",
       "     See: https://github.com/scikit-learn/scikit-learn/issues/21755 */\n",
       "  display: inline-block !important;\n",
       "  position: relative;\n",
       "}\n",
       "\n",
       "#sk-container-id-2 div.sk-text-repr-fallback {\n",
       "  display: none;\n",
       "}\n",
       "\n",
       "div.sk-parallel-item,\n",
       "div.sk-serial,\n",
       "div.sk-item {\n",
       "  /* draw centered vertical line to link estimators */\n",
       "  background-image: linear-gradient(var(--sklearn-color-text-on-default-background), var(--sklearn-color-text-on-default-background));\n",
       "  background-size: 2px 100%;\n",
       "  background-repeat: no-repeat;\n",
       "  background-position: center center;\n",
       "}\n",
       "\n",
       "/* Parallel-specific style estimator block */\n",
       "\n",
       "#sk-container-id-2 div.sk-parallel-item::after {\n",
       "  content: \"\";\n",
       "  width: 100%;\n",
       "  border-bottom: 2px solid var(--sklearn-color-text-on-default-background);\n",
       "  flex-grow: 1;\n",
       "}\n",
       "\n",
       "#sk-container-id-2 div.sk-parallel {\n",
       "  display: flex;\n",
       "  align-items: stretch;\n",
       "  justify-content: center;\n",
       "  background-color: var(--sklearn-color-background);\n",
       "  position: relative;\n",
       "}\n",
       "\n",
       "#sk-container-id-2 div.sk-parallel-item {\n",
       "  display: flex;\n",
       "  flex-direction: column;\n",
       "}\n",
       "\n",
       "#sk-container-id-2 div.sk-parallel-item:first-child::after {\n",
       "  align-self: flex-end;\n",
       "  width: 50%;\n",
       "}\n",
       "\n",
       "#sk-container-id-2 div.sk-parallel-item:last-child::after {\n",
       "  align-self: flex-start;\n",
       "  width: 50%;\n",
       "}\n",
       "\n",
       "#sk-container-id-2 div.sk-parallel-item:only-child::after {\n",
       "  width: 0;\n",
       "}\n",
       "\n",
       "/* Serial-specific style estimator block */\n",
       "\n",
       "#sk-container-id-2 div.sk-serial {\n",
       "  display: flex;\n",
       "  flex-direction: column;\n",
       "  align-items: center;\n",
       "  background-color: var(--sklearn-color-background);\n",
       "  padding-right: 1em;\n",
       "  padding-left: 1em;\n",
       "}\n",
       "\n",
       "\n",
       "/* Toggleable style: style used for estimator/Pipeline/ColumnTransformer box that is\n",
       "clickable and can be expanded/collapsed.\n",
       "- Pipeline and ColumnTransformer use this feature and define the default style\n",
       "- Estimators will overwrite some part of the style using the `sk-estimator` class\n",
       "*/\n",
       "\n",
       "/* Pipeline and ColumnTransformer style (default) */\n",
       "\n",
       "#sk-container-id-2 div.sk-toggleable {\n",
       "  /* Default theme specific background. It is overwritten whether we have a\n",
       "  specific estimator or a Pipeline/ColumnTransformer */\n",
       "  background-color: var(--sklearn-color-background);\n",
       "}\n",
       "\n",
       "/* Toggleable label */\n",
       "#sk-container-id-2 label.sk-toggleable__label {\n",
       "  cursor: pointer;\n",
       "  display: flex;\n",
       "  width: 100%;\n",
       "  margin-bottom: 0;\n",
       "  padding: 0.5em;\n",
       "  box-sizing: border-box;\n",
       "  text-align: center;\n",
       "  align-items: start;\n",
       "  justify-content: space-between;\n",
       "  gap: 0.5em;\n",
       "}\n",
       "\n",
       "#sk-container-id-2 label.sk-toggleable__label .caption {\n",
       "  font-size: 0.6rem;\n",
       "  font-weight: lighter;\n",
       "  color: var(--sklearn-color-text-muted);\n",
       "}\n",
       "\n",
       "#sk-container-id-2 label.sk-toggleable__label-arrow:before {\n",
       "  /* Arrow on the left of the label */\n",
       "  content: \"▸\";\n",
       "  float: left;\n",
       "  margin-right: 0.25em;\n",
       "  color: var(--sklearn-color-icon);\n",
       "}\n",
       "\n",
       "#sk-container-id-2 label.sk-toggleable__label-arrow:hover:before {\n",
       "  color: var(--sklearn-color-text);\n",
       "}\n",
       "\n",
       "/* Toggleable content - dropdown */\n",
       "\n",
       "#sk-container-id-2 div.sk-toggleable__content {\n",
       "  max-height: 0;\n",
       "  max-width: 0;\n",
       "  overflow: hidden;\n",
       "  text-align: left;\n",
       "  /* unfitted */\n",
       "  background-color: var(--sklearn-color-unfitted-level-0);\n",
       "}\n",
       "\n",
       "#sk-container-id-2 div.sk-toggleable__content.fitted {\n",
       "  /* fitted */\n",
       "  background-color: var(--sklearn-color-fitted-level-0);\n",
       "}\n",
       "\n",
       "#sk-container-id-2 div.sk-toggleable__content pre {\n",
       "  margin: 0.2em;\n",
       "  border-radius: 0.25em;\n",
       "  color: var(--sklearn-color-text);\n",
       "  /* unfitted */\n",
       "  background-color: var(--sklearn-color-unfitted-level-0);\n",
       "}\n",
       "\n",
       "#sk-container-id-2 div.sk-toggleable__content.fitted pre {\n",
       "  /* unfitted */\n",
       "  background-color: var(--sklearn-color-fitted-level-0);\n",
       "}\n",
       "\n",
       "#sk-container-id-2 input.sk-toggleable__control:checked~div.sk-toggleable__content {\n",
       "  /* Expand drop-down */\n",
       "  max-height: 200px;\n",
       "  max-width: 100%;\n",
       "  overflow: auto;\n",
       "}\n",
       "\n",
       "#sk-container-id-2 input.sk-toggleable__control:checked~label.sk-toggleable__label-arrow:before {\n",
       "  content: \"▾\";\n",
       "}\n",
       "\n",
       "/* Pipeline/ColumnTransformer-specific style */\n",
       "\n",
       "#sk-container-id-2 div.sk-label input.sk-toggleable__control:checked~label.sk-toggleable__label {\n",
       "  color: var(--sklearn-color-text);\n",
       "  background-color: var(--sklearn-color-unfitted-level-2);\n",
       "}\n",
       "\n",
       "#sk-container-id-2 div.sk-label.fitted input.sk-toggleable__control:checked~label.sk-toggleable__label {\n",
       "  background-color: var(--sklearn-color-fitted-level-2);\n",
       "}\n",
       "\n",
       "/* Estimator-specific style */\n",
       "\n",
       "/* Colorize estimator box */\n",
       "#sk-container-id-2 div.sk-estimator input.sk-toggleable__control:checked~label.sk-toggleable__label {\n",
       "  /* unfitted */\n",
       "  background-color: var(--sklearn-color-unfitted-level-2);\n",
       "}\n",
       "\n",
       "#sk-container-id-2 div.sk-estimator.fitted input.sk-toggleable__control:checked~label.sk-toggleable__label {\n",
       "  /* fitted */\n",
       "  background-color: var(--sklearn-color-fitted-level-2);\n",
       "}\n",
       "\n",
       "#sk-container-id-2 div.sk-label label.sk-toggleable__label,\n",
       "#sk-container-id-2 div.sk-label label {\n",
       "  /* The background is the default theme color */\n",
       "  color: var(--sklearn-color-text-on-default-background);\n",
       "}\n",
       "\n",
       "/* On hover, darken the color of the background */\n",
       "#sk-container-id-2 div.sk-label:hover label.sk-toggleable__label {\n",
       "  color: var(--sklearn-color-text);\n",
       "  background-color: var(--sklearn-color-unfitted-level-2);\n",
       "}\n",
       "\n",
       "/* Label box, darken color on hover, fitted */\n",
       "#sk-container-id-2 div.sk-label.fitted:hover label.sk-toggleable__label.fitted {\n",
       "  color: var(--sklearn-color-text);\n",
       "  background-color: var(--sklearn-color-fitted-level-2);\n",
       "}\n",
       "\n",
       "/* Estimator label */\n",
       "\n",
       "#sk-container-id-2 div.sk-label label {\n",
       "  font-family: monospace;\n",
       "  font-weight: bold;\n",
       "  display: inline-block;\n",
       "  line-height: 1.2em;\n",
       "}\n",
       "\n",
       "#sk-container-id-2 div.sk-label-container {\n",
       "  text-align: center;\n",
       "}\n",
       "\n",
       "/* Estimator-specific */\n",
       "#sk-container-id-2 div.sk-estimator {\n",
       "  font-family: monospace;\n",
       "  border: 1px dotted var(--sklearn-color-border-box);\n",
       "  border-radius: 0.25em;\n",
       "  box-sizing: border-box;\n",
       "  margin-bottom: 0.5em;\n",
       "  /* unfitted */\n",
       "  background-color: var(--sklearn-color-unfitted-level-0);\n",
       "}\n",
       "\n",
       "#sk-container-id-2 div.sk-estimator.fitted {\n",
       "  /* fitted */\n",
       "  background-color: var(--sklearn-color-fitted-level-0);\n",
       "}\n",
       "\n",
       "/* on hover */\n",
       "#sk-container-id-2 div.sk-estimator:hover {\n",
       "  /* unfitted */\n",
       "  background-color: var(--sklearn-color-unfitted-level-2);\n",
       "}\n",
       "\n",
       "#sk-container-id-2 div.sk-estimator.fitted:hover {\n",
       "  /* fitted */\n",
       "  background-color: var(--sklearn-color-fitted-level-2);\n",
       "}\n",
       "\n",
       "/* Specification for estimator info (e.g. \"i\" and \"?\") */\n",
       "\n",
       "/* Common style for \"i\" and \"?\" */\n",
       "\n",
       ".sk-estimator-doc-link,\n",
       "a:link.sk-estimator-doc-link,\n",
       "a:visited.sk-estimator-doc-link {\n",
       "  float: right;\n",
       "  font-size: smaller;\n",
       "  line-height: 1em;\n",
       "  font-family: monospace;\n",
       "  background-color: var(--sklearn-color-background);\n",
       "  border-radius: 1em;\n",
       "  height: 1em;\n",
       "  width: 1em;\n",
       "  text-decoration: none !important;\n",
       "  margin-left: 0.5em;\n",
       "  text-align: center;\n",
       "  /* unfitted */\n",
       "  border: var(--sklearn-color-unfitted-level-1) 1pt solid;\n",
       "  color: var(--sklearn-color-unfitted-level-1);\n",
       "}\n",
       "\n",
       ".sk-estimator-doc-link.fitted,\n",
       "a:link.sk-estimator-doc-link.fitted,\n",
       "a:visited.sk-estimator-doc-link.fitted {\n",
       "  /* fitted */\n",
       "  border: var(--sklearn-color-fitted-level-1) 1pt solid;\n",
       "  color: var(--sklearn-color-fitted-level-1);\n",
       "}\n",
       "\n",
       "/* On hover */\n",
       "div.sk-estimator:hover .sk-estimator-doc-link:hover,\n",
       ".sk-estimator-doc-link:hover,\n",
       "div.sk-label-container:hover .sk-estimator-doc-link:hover,\n",
       ".sk-estimator-doc-link:hover {\n",
       "  /* unfitted */\n",
       "  background-color: var(--sklearn-color-unfitted-level-3);\n",
       "  color: var(--sklearn-color-background);\n",
       "  text-decoration: none;\n",
       "}\n",
       "\n",
       "div.sk-estimator.fitted:hover .sk-estimator-doc-link.fitted:hover,\n",
       ".sk-estimator-doc-link.fitted:hover,\n",
       "div.sk-label-container:hover .sk-estimator-doc-link.fitted:hover,\n",
       ".sk-estimator-doc-link.fitted:hover {\n",
       "  /* fitted */\n",
       "  background-color: var(--sklearn-color-fitted-level-3);\n",
       "  color: var(--sklearn-color-background);\n",
       "  text-decoration: none;\n",
       "}\n",
       "\n",
       "/* Span, style for the box shown on hovering the info icon */\n",
       ".sk-estimator-doc-link span {\n",
       "  display: none;\n",
       "  z-index: 9999;\n",
       "  position: relative;\n",
       "  font-weight: normal;\n",
       "  right: .2ex;\n",
       "  padding: .5ex;\n",
       "  margin: .5ex;\n",
       "  width: min-content;\n",
       "  min-width: 20ex;\n",
       "  max-width: 50ex;\n",
       "  color: var(--sklearn-color-text);\n",
       "  box-shadow: 2pt 2pt 4pt #999;\n",
       "  /* unfitted */\n",
       "  background: var(--sklearn-color-unfitted-level-0);\n",
       "  border: .5pt solid var(--sklearn-color-unfitted-level-3);\n",
       "}\n",
       "\n",
       ".sk-estimator-doc-link.fitted span {\n",
       "  /* fitted */\n",
       "  background: var(--sklearn-color-fitted-level-0);\n",
       "  border: var(--sklearn-color-fitted-level-3);\n",
       "}\n",
       "\n",
       ".sk-estimator-doc-link:hover span {\n",
       "  display: block;\n",
       "}\n",
       "\n",
       "/* \"?\"-specific style due to the `<a>` HTML tag */\n",
       "\n",
       "#sk-container-id-2 a.estimator_doc_link {\n",
       "  float: right;\n",
       "  font-size: 1rem;\n",
       "  line-height: 1em;\n",
       "  font-family: monospace;\n",
       "  background-color: var(--sklearn-color-background);\n",
       "  border-radius: 1rem;\n",
       "  height: 1rem;\n",
       "  width: 1rem;\n",
       "  text-decoration: none;\n",
       "  /* unfitted */\n",
       "  color: var(--sklearn-color-unfitted-level-1);\n",
       "  border: var(--sklearn-color-unfitted-level-1) 1pt solid;\n",
       "}\n",
       "\n",
       "#sk-container-id-2 a.estimator_doc_link.fitted {\n",
       "  /* fitted */\n",
       "  border: var(--sklearn-color-fitted-level-1) 1pt solid;\n",
       "  color: var(--sklearn-color-fitted-level-1);\n",
       "}\n",
       "\n",
       "/* On hover */\n",
       "#sk-container-id-2 a.estimator_doc_link:hover {\n",
       "  /* unfitted */\n",
       "  background-color: var(--sklearn-color-unfitted-level-3);\n",
       "  color: var(--sklearn-color-background);\n",
       "  text-decoration: none;\n",
       "}\n",
       "\n",
       "#sk-container-id-2 a.estimator_doc_link.fitted:hover {\n",
       "  /* fitted */\n",
       "  background-color: var(--sklearn-color-fitted-level-3);\n",
       "}\n",
       "</style><div id=\"sk-container-id-2\" class=\"sk-top-container\"><div class=\"sk-text-repr-fallback\"><pre>GridSearchCV(cv=5, estimator=RandomForestClassifier(random_state=42),\n",
       "             param_grid={&#x27;class_weight&#x27;: [&#x27;balanced&#x27;, None],\n",
       "                         &#x27;max_depth&#x27;: [None, 10, 20],\n",
       "                         &#x27;min_samples_leaf&#x27;: [1, 2, 4],\n",
       "                         &#x27;min_samples_split&#x27;: [2, 5, 10],\n",
       "                         &#x27;n_estimators&#x27;: [50, 100, 200]})</pre><b>In a Jupyter environment, please rerun this cell to show the HTML representation or trust the notebook. <br />On GitHub, the HTML representation is unable to render, please try loading this page with nbviewer.org.</b></div><div class=\"sk-container\" hidden><div class=\"sk-item sk-dashed-wrapped\"><div class=\"sk-label-container\"><div class=\"sk-label fitted sk-toggleable\"><input class=\"sk-toggleable__control sk-hidden--visually\" id=\"sk-estimator-id-4\" type=\"checkbox\" ><label for=\"sk-estimator-id-4\" class=\"sk-toggleable__label fitted sk-toggleable__label-arrow\"><div><div>GridSearchCV</div></div><div><a class=\"sk-estimator-doc-link fitted\" rel=\"noreferrer\" target=\"_blank\" href=\"https://scikit-learn.org/1.6/modules/generated/sklearn.model_selection.GridSearchCV.html\">?<span>Documentation for GridSearchCV</span></a><span class=\"sk-estimator-doc-link fitted\">i<span>Fitted</span></span></div></label><div class=\"sk-toggleable__content fitted\"><pre>GridSearchCV(cv=5, estimator=RandomForestClassifier(random_state=42),\n",
       "             param_grid={&#x27;class_weight&#x27;: [&#x27;balanced&#x27;, None],\n",
       "                         &#x27;max_depth&#x27;: [None, 10, 20],\n",
       "                         &#x27;min_samples_leaf&#x27;: [1, 2, 4],\n",
       "                         &#x27;min_samples_split&#x27;: [2, 5, 10],\n",
       "                         &#x27;n_estimators&#x27;: [50, 100, 200]})</pre></div> </div></div><div class=\"sk-parallel\"><div class=\"sk-parallel-item\"><div class=\"sk-item\"><div class=\"sk-label-container\"><div class=\"sk-label fitted sk-toggleable\"><input class=\"sk-toggleable__control sk-hidden--visually\" id=\"sk-estimator-id-5\" type=\"checkbox\" ><label for=\"sk-estimator-id-5\" class=\"sk-toggleable__label fitted sk-toggleable__label-arrow\"><div><div>best_estimator_: RandomForestClassifier</div></div></label><div class=\"sk-toggleable__content fitted\"><pre>RandomForestClassifier(class_weight=&#x27;balanced&#x27;, max_depth=10,\n",
       "                       min_samples_split=5, n_estimators=200, random_state=42)</pre></div> </div></div><div class=\"sk-serial\"><div class=\"sk-item\"><div class=\"sk-estimator fitted sk-toggleable\"><input class=\"sk-toggleable__control sk-hidden--visually\" id=\"sk-estimator-id-6\" type=\"checkbox\" ><label for=\"sk-estimator-id-6\" class=\"sk-toggleable__label fitted sk-toggleable__label-arrow\"><div><div>RandomForestClassifier</div></div><div><a class=\"sk-estimator-doc-link fitted\" rel=\"noreferrer\" target=\"_blank\" href=\"https://scikit-learn.org/1.6/modules/generated/sklearn.ensemble.RandomForestClassifier.html\">?<span>Documentation for RandomForestClassifier</span></a></div></label><div class=\"sk-toggleable__content fitted\"><pre>RandomForestClassifier(class_weight=&#x27;balanced&#x27;, max_depth=10,\n",
       "                       min_samples_split=5, n_estimators=200, random_state=42)</pre></div> </div></div></div></div></div></div></div></div></div>"
      ],
      "text/plain": [
       "GridSearchCV(cv=5, estimator=RandomForestClassifier(random_state=42),\n",
       "             param_grid={'class_weight': ['balanced', None],\n",
       "                         'max_depth': [None, 10, 20],\n",
       "                         'min_samples_leaf': [1, 2, 4],\n",
       "                         'min_samples_split': [2, 5, 10],\n",
       "                         'n_estimators': [50, 100, 200]})"
      ]
     },
     "execution_count": 87,
     "metadata": {},
     "output_type": "execute_result"
    }
   ],
   "source": [
    "# Definimos los hiperparámetros a probar\n",
    "param_grid = {\n",
    "    'n_estimators': [50, 100, 200],  # Número de árboles en el bosque\n",
    "    'max_depth': [None, 10, 20],  # Profundidad máxima del árbol\n",
    "    'min_samples_split': [2, 5, 10],  # Mínimo de muestras para dividir un nodo\n",
    "    'min_samples_leaf': [1, 2, 4],  # Mínimo de muestras en una hoja\n",
    "    'class_weight': ['balanced', None]  # Balanceo automático de clases\n",
    "}\n",
    "\n",
    "# Creamos el modelo base de Random Forest\n",
    "rf_base = RandomForestClassifier(random_state=42)\n",
    "\n",
    "# Aplicamos Grid Search con validación cruzada\n",
    "grid_models = GridSearchCV(rf_base, param_grid, cv=5)\n",
    "\n",
    "# Ejecutamos la búsqueda\n",
    "grid_models.fit(X_train, y_train)\n",
    "\n"
   ]
  },
  {
   "cell_type": "code",
   "execution_count": 88,
   "metadata": {},
   "outputs": [
    {
     "data": {
      "text/plain": [
       "{'class_weight': 'balanced',\n",
       " 'max_depth': 10,\n",
       " 'min_samples_leaf': 1,\n",
       " 'min_samples_split': 5,\n",
       " 'n_estimators': 200}"
      ]
     },
     "execution_count": 88,
     "metadata": {},
     "output_type": "execute_result"
    }
   ],
   "source": [
    "grid_models.best_params_"
   ]
  },
  {
   "cell_type": "code",
   "execution_count": 89,
   "metadata": {},
   "outputs": [
    {
     "data": {
      "text/plain": [
       "np.float64(0.7833666533386646)"
      ]
     },
     "execution_count": 89,
     "metadata": {},
     "output_type": "execute_result"
    }
   ],
   "source": [
    "grid_models.best_score_"
   ]
  },
  {
   "cell_type": "markdown",
   "metadata": {},
   "source": []
  },
  {
   "cell_type": "code",
   "execution_count": 90,
   "metadata": {},
   "outputs": [],
   "source": [
    "best_model = grid_models.best_estimator_"
   ]
  },
  {
   "cell_type": "code",
   "execution_count": 91,
   "metadata": {},
   "outputs": [
    {
     "data": {
      "image/png": "[encoded data removed]",
      "text/plain": [
       "<Figure size 600x400 with 2 Axes>"
      ]
     },
     "metadata": {},
     "output_type": "display_data"
    }
   ],
   "source": [
    "#Predicciones con el modelo oprimizado:\n",
    "y_pred_best = best_model.predict(X_test)\n",
    "\n",
    "# Calculamos la matriz de confusión\n",
    "conf_matrix_best = confusion_matrix(y_test, y_pred_best)\n",
    "\n",
    "plt.figure(figsize=(6, 4))\n",
    "sns.heatmap(conf_matrix_best, annot=True, fmt=\"d\", cmap=\"Blues\", \n",
    "            xticklabels=['No diabetes', 'Diabetes'], \n",
    "            yticklabels=['No diabetes', 'Diabetes'])\n",
    "plt.xlabel(\"Predicción\")\n",
    "plt.ylabel(\"Real\")\n",
    "plt.title(\"Matriz de Confusión - Modelo Optimizado (Grid Search)\")\n",
    "plt.show()\n",
    "\n"
   ]
  },
  {
   "cell_type": "code",
   "execution_count": 92,
   "metadata": {},
   "outputs": [
    {
     "name": "stdout",
     "output_type": "stream",
     "text": [
      "Accuracy (Optimizado): 0.7792\n",
      "Precision (Optimizado): 0.6786\n",
      "Recall (Optimizado): 0.7037\n",
      "F1-Score (Optimizado): 0.6909\n"
     ]
    }
   ],
   "source": [
    "# Calculamos las métricas del modelo optimizado\n",
    "accuracy_best = accuracy_score(y_test, y_pred_best)\n",
    "precision_best = precision_score(y_test, y_pred_best)\n",
    "recall_best = recall_score(y_test, y_pred_best)\n",
    "f1_best = f1_score(y_test, y_pred_best)\n",
    "\n",
    "# Mostramos los resultados\n",
    "print(f\"Accuracy (Optimizado): {accuracy_best:.4f}\")\n",
    "print(f\"Precision (Optimizado): {precision_best:.4f}\")\n",
    "print(f\"Recall (Optimizado): {recall_best:.4f}\")\n",
    "print(f\"F1-Score (Optimizado): {f1_best:.4f}\")"
   ]
  },
  {
   "cell_type": "markdown",
   "metadata": {},
   "source": [
    "### 🔎 Comparación de Modelos - Random Forest\n",
    "\n",
    "| Métrica       | Sin optimizar | Optimizado (Grid Search) |\n",
    "|--------------|--------------|--------------------------|\n",
    "| **Accuracy**  | 74.03%       | **77.92%**             |\n",
    "| **Precision** | 64.00%       | **67.86%**             |\n",
    "| **Recall**    | 59.26%       | **70.37%**             |\n",
    "| **F1-Score**  | 61.54%       | **69.09%**             |\n"
   ]
  },
  {
   "cell_type": "markdown",
   "metadata": {},
   "source": [
    "Probamos Ada Boost"
   ]
  },
  {
   "cell_type": "code",
   "execution_count": 93,
   "metadata": {},
   "outputs": [
    {
     "name": "stdout",
     "output_type": "stream",
     "text": [
      "Accuracy (AdaBoost): 0.7597\n",
      "Precision (AdaBoost): 0.6809\n",
      "Recall (AdaBoost): 0.5926\n",
      "F1-Score (AdaBoost): 0.6337\n"
     ]
    }
   ],
   "source": [
    "# Creamos el modelo de AdaBoost\n",
    "ada_model = AdaBoostClassifier(n_estimators=100, random_state=42)\n",
    "\n",
    "# Entrenamos el modelo\n",
    "ada_model.fit(X_train, y_train)\n",
    "\n",
    "# Predicción en el conjunto de prueba\n",
    "y_pred_ada = ada_model.predict(X_test)\n",
    "\n",
    "# Calculamos las métricas\n",
    "accuracy_ada = accuracy_score(y_test, y_pred_ada)\n",
    "precision_ada = precision_score(y_test, y_pred_ada)\n",
    "recall_ada = recall_score(y_test, y_pred_ada)\n",
    "f1_ada = f1_score(y_test, y_pred_ada)\n",
    "\n",
    "# Mostramos los resultados\n",
    "print(f\"Accuracy (AdaBoost): {accuracy_ada:.4f}\")\n",
    "print(f\"Precision (AdaBoost): {precision_ada:.4f}\")\n",
    "print(f\"Recall (AdaBoost): {recall_ada:.4f}\")\n",
    "print(f\"F1-Score (AdaBoost): {f1_ada:.4f}\")"
   ]
  },
  {
   "cell_type": "code",
   "execution_count": 94,
   "metadata": {},
   "outputs": [
    {
     "name": "stdout",
     "output_type": "stream",
     "text": [
      "Accuracy (Gradient Boosting): 0.7468\n",
      "Precision (Gradient Boosting): 0.6667\n",
      "Recall (Gradient Boosting): 0.5556\n",
      "F1-Score (Gradient Boosting): 0.6061\n"
     ]
    }
   ],
   "source": [
    "from sklearn.ensemble import GradientBoostingClassifier\n",
    "\n",
    "# Creamos el modelo de Gradient Boosting\n",
    "gb_model = GradientBoostingClassifier(n_estimators=100, random_state=42)\n",
    "\n",
    "# Entrenamos el modelo\n",
    "gb_model.fit(X_train, y_train)\n",
    "\n",
    "# Predicción en el conjunto de prueba\n",
    "y_pred_gb = gb_model.predict(X_test)\n",
    "\n",
    "# Calculamos las métricas\n",
    "accuracy_gb = accuracy_score(y_test, y_pred_gb)\n",
    "precision_gb = precision_score(y_test, y_pred_gb)\n",
    "recall_gb = recall_score(y_test, y_pred_gb)\n",
    "f1_gb = f1_score(y_test, y_pred_gb)\n",
    "\n",
    "# Mostramos los resultados\n",
    "print(f\"Accuracy (Gradient Boosting): {accuracy_gb:.4f}\")\n",
    "print(f\"Precision (Gradient Boosting): {precision_gb:.4f}\")\n",
    "print(f\"Recall (Gradient Boosting): {recall_gb:.4f}\")\n",
    "print(f\"F1-Score (Gradient Boosting): {f1_gb:.4f}\")"
   ]
  },
  {
   "cell_type": "markdown",
   "metadata": {},
   "source": [
    "### 🔎 Comparación de Modelos de Clasificación\n",
    "\n",
    "| Modelo                  | Accuracy  | Precision  | Recall  | F1-Score  |\n",
    "|-------------------------|-----------|------------|---------|-----------|\n",
    "| **Regresión Logística (Base)** | 70.13% | 58.70% | 50.00% | 54.00% |\n",
    "| **Random Forest (Sin Optimizar)** | 74.03% | 64.00% | 59.26% | 61.54% |\n",
    "| **Random Forest (Optimizado)** | 77.92% | 67.86% | 70.37% | 69.09% |\n",
    "| **AdaBoost** | 75.97% | 68.09% | 59.26% | 63.37% |\n",
    "| **Gradient Boosting** | 74.68% | 66.67% | 55.56% | 60.61% |\n"
   ]
  },
  {
   "cell_type": "markdown",
   "metadata": {},
   "source": [
    "Optimizo los hiperparámetros del AdaBoost:"
   ]
  },
  {
   "cell_type": "code",
   "execution_count": 95,
   "metadata": {},
   "outputs": [
    {
     "name": "stdout",
     "output_type": "stream",
     "text": [
      "Fitting 5 folds for each of 18 candidates, totalling 90 fits\n",
      "Mejores hiperparámetros (AdaBoost): {'estimator': DecisionTreeClassifier(max_depth=1), 'learning_rate': 1, 'n_estimators': 50}\n"
     ]
    }
   ],
   "source": [
    "# Definimos los hiperparámetros a probar\n",
    "param_grid_ada = {\n",
    "    'n_estimators': [50, 100, 200],\n",
    "    'learning_rate': [0.01, 0.1, 1],\n",
    "    'estimator': [DecisionTreeClassifier(max_depth=1), DecisionTreeClassifier(max_depth=3)]\n",
    "}\n",
    "\n",
    "# Creamos el modelo base de AdaBoost\n",
    "ada_base = AdaBoostClassifier(random_state=42)\n",
    "\n",
    "# Aplicamos Grid Search con validación cruzada\n",
    "grid_search_ada = GridSearchCV(ada_base, param_grid_ada, cv=5, scoring='f1', n_jobs=-1, verbose=2)\n",
    "\n",
    "# Ejecutamos la búsqueda\n",
    "grid_search_ada.fit(X_train, y_train)\n",
    "\n",
    "# Mostramos los mejores parámetros encontrados\n",
    "print(f\"Mejores hiperparámetros (AdaBoost): {grid_search_ada.best_params_}\")"
   ]
  },
  {
   "cell_type": "code",
   "execution_count": 96,
   "metadata": {},
   "outputs": [
    {
     "name": "stdout",
     "output_type": "stream",
     "text": [
      "Accuracy (AdaBoost Optimizado): 0.7468\n",
      "Precision (AdaBoost Optimizado): 0.6596\n",
      "Recall (AdaBoost Optimizado): 0.5741\n",
      "F1-Score (AdaBoost Optimizado): 0.6139\n"
     ]
    }
   ],
   "source": [
    "# Definimos el modelo optimizado con los mejores hiperparámetros\n",
    "ada_opt = AdaBoostClassifier(\n",
    "    estimator=DecisionTreeClassifier(max_depth=1), \n",
    "    learning_rate=1, \n",
    "    n_estimators=50, \n",
    "    random_state=42\n",
    ")\n",
    "\n",
    "# Entrenamos el modelo\n",
    "ada_opt.fit(X_train, y_train)\n",
    "\n",
    "# Hacemos predicciones con el modelo optimizado\n",
    "y_pred_ada_opt = ada_opt.predict(X_test)\n",
    "\n",
    "# Calculamos las métricas\n",
    "accuracy_ada_opt = accuracy_score(y_test, y_pred_ada_opt)\n",
    "precision_ada_opt = precision_score(y_test, y_pred_ada_opt)\n",
    "recall_ada_opt = recall_score(y_test, y_pred_ada_opt)\n",
    "f1_ada_opt = f1_score(y_test, y_pred_ada_opt)\n",
    "\n",
    "# Mostramos los resultados\n",
    "print(f\"Accuracy (AdaBoost Optimizado): {accuracy_ada_opt:.4f}\")\n",
    "print(f\"Precision (AdaBoost Optimizado): {precision_ada_opt:.4f}\")\n",
    "print(f\"Recall (AdaBoost Optimizado): {recall_ada_opt:.4f}\")\n",
    "print(f\"F1-Score (AdaBoost Optimizado): {f1_ada_opt:.4f}\")"
   ]
  },
  {
   "cell_type": "markdown",
   "metadata": {},
   "source": [
    "### 🔎 Comparación de Modelos de Clasificación\n",
    "\n",
    "| Modelo                      | Accuracy  | Precision  | Recall  | F1-Score  |\n",
    "|-----------------------------|-----------|------------|---------|-----------|\n",
    "| **Regresión Logística (Base)** | 70.13% | 58.70% | 50.00% | 54.00% |\n",
    "| **Random Forest (Sin Optimizar)** | 74.03% | 64.00% | 59.26% | 61.54% |\n",
    "| **Random Forest (Optimizado)** | 77.92% | 67.86% | 70.37% | 69.09% |\n",
    "| **AdaBoost** | 75.97% | 68.09% | 59.26% | 63.37% |\n",
    "| **AdaBoost Optimizado** | 74.68% | 65.96% | 57.41% | 61.39% |\n",
    "| **Gradient Boosting** | 74.68% | 66.67% | 55.56% | 60.61% |\n"
   ]
  },
  {
   "cell_type": "markdown",
   "metadata": {},
   "source": [
    "El Ada Boost optimizado no supera a la regresión logística optimizada ni al Random Forest optimizado. Pruebo XGB."
   ]
  },
  {
   "cell_type": "code",
   "execution_count": 97,
   "metadata": {},
   "outputs": [
    {
     "name": "stdout",
     "output_type": "stream",
     "text": [
      "Accuracy (XGBoost): 0.7792\n",
      "Precision (XGBoost): 0.7000\n",
      "Recall (XGBoost): 0.6481\n",
      "F1-Score (XGBoost): 0.6731\n"
     ]
    }
   ],
   "source": [
    "# Definimos el modelo de XGBoost\n",
    "xgb_model = XGBClassifier(n_estimators=100, learning_rate=0.1, max_depth=3, random_state=42)\n",
    "\n",
    "# Entrenamos el modelo\n",
    "xgb_model.fit(X_train, y_train)\n",
    "\n",
    "# Predicción en el conjunto de prueba\n",
    "y_pred_xgb = xgb_model.predict(X_test)\n",
    "\n",
    "# Calculamos las métricas\n",
    "accuracy_xgb = accuracy_score(y_test, y_pred_xgb)\n",
    "precision_xgb = precision_score(y_test, y_pred_xgb)\n",
    "recall_xgb = recall_score(y_test, y_pred_xgb)\n",
    "f1_xgb = f1_score(y_test, y_pred_xgb)\n",
    "\n",
    "# Mostramos los resultados\n",
    "print(f\"Accuracy (XGBoost): {accuracy_xgb:.4f}\")\n",
    "print(f\"Precision (XGBoost): {precision_xgb:.4f}\")\n",
    "print(f\"Recall (XGBoost): {recall_xgb:.4f}\")\n",
    "print(f\"F1-Score (XGBoost): {f1_xgb:.4f}\")"
   ]
  },
  {
   "cell_type": "markdown",
   "metadata": {},
   "source": [
    "### 🔎 Comparación de Modelos de Clasificación\n",
    "\n",
    "| Modelo                      | Accuracy  | Precision  | Recall  | F1-Score  |\n",
    "|-----------------------------|-----------|------------|---------|-----------|\n",
    "| **Regresión Logística (Base)** | 70.13% | 58.70% | 50.00% | 54.00% |\n",
    "| **Random Forest (Sin Optimizar)** | 74.03% | 64.00% | 59.26% | 61.54% |\n",
    "| **Random Forest (Optimizado)** | 77.92% | 67.86% | 70.37% | 69.09% |\n",
    "| **AdaBoost** | 75.97% | 68.09% | 59.26% | 63.37% |\n",
    "| **AdaBoost Optimizado** | 74.68% | 65.96% | 57.41% | 61.39% |\n",
    "| **Gradient Boosting** | 74.68% | 66.67% | 55.56% | 60.61% |\n",
    "| **XGBoost** | 77.92% | 70.00% | 64.81% | 67.31% |\n"
   ]
  },
  {
   "cell_type": "markdown",
   "metadata": {},
   "source": [
    "Optimizo"
   ]
  },
  {
   "cell_type": "code",
   "execution_count": 98,
   "metadata": {},
   "outputs": [
    {
     "name": "stdout",
     "output_type": "stream",
     "text": [
      "Fitting 5 folds for each of 81 candidates, totalling 405 fits\n",
      "🔥 Mejores hiperparámetros (XGBoost): {'gamma': 0, 'learning_rate': 0.1, 'max_depth': 5, 'n_estimators': 100}\n"
     ]
    }
   ],
   "source": [
    "\n",
    "# Definimos los hiperparámetros a probar\n",
    "param_grid_xgb = {\n",
    "    'n_estimators': [50, 100, 200],  # Número de árboles\n",
    "    'learning_rate': [0.01, 0.1, 0.3],  # Tasa de aprendizaje\n",
    "    'max_depth': [3, 5, 7],  # Profundidad máxima de los árboles\n",
    "    'gamma': [0, 0.1, 0.5]  # Reducción de división de nodos para evitar sobreajuste\n",
    "}\n",
    "\n",
    "# Creamos el modelo base de XGBoost\n",
    "xgb_base = XGBClassifier(random_state=42)\n",
    "\n",
    "# Aplicamos Grid Search con validación cruzada\n",
    "grid_search_xgb = GridSearchCV(xgb_base, param_grid_xgb, cv=5, scoring='f1', n_jobs=-1, verbose=2)\n",
    "\n",
    "# Ejecutamos la búsqueda\n",
    "grid_search_xgb.fit(X_train, y_train)\n",
    "\n",
    "# Mostramos los mejores parámetros encontrados\n",
    "print(f\"🔥 Mejores hiperparámetros (XGBoost): {grid_search_xgb.best_params_}\")"
   ]
  },
  {
   "cell_type": "markdown",
   "metadata": {},
   "source": [
    "Vuelvo a entrenar:"
   ]
  },
  {
   "cell_type": "code",
   "execution_count": 99,
   "metadata": {},
   "outputs": [
    {
     "name": "stdout",
     "output_type": "stream",
     "text": [
      "Accuracy (XGBoost Optimizado): 0.7597\n",
      "Precision (XGBoost Optimizado): 0.6667\n",
      "Recall (XGBoost Optimizado): 0.6296\n",
      "F1-Score (XGBoost Optimizado): 0.6476\n"
     ]
    }
   ],
   "source": [
    "# Definimos el modelo con los hiperparámetros optimizados\n",
    "xgb_opt = XGBClassifier(\n",
    "    gamma=0, \n",
    "    learning_rate=0.1, \n",
    "    max_depth=5, \n",
    "    n_estimators=100, \n",
    "    random_state=42\n",
    ")\n",
    "\n",
    "# Entrenamos el modelo\n",
    "xgb_opt.fit(X_train, y_train)\n",
    "\n",
    "# Hacemos predicciones con el modelo optimizado\n",
    "y_pred_xgb_opt = xgb_opt.predict(X_test)\n",
    "\n",
    "# Calculamos las métricas\n",
    "accuracy_xgb_opt = accuracy_score(y_test, y_pred_xgb_opt)\n",
    "precision_xgb_opt = precision_score(y_test, y_pred_xgb_opt)\n",
    "recall_xgb_opt = recall_score(y_test, y_pred_xgb_opt)\n",
    "f1_xgb_opt = f1_score(y_test, y_pred_xgb_opt)\n",
    "\n",
    "# Mostramos los resultados\n",
    "print(f\"Accuracy (XGBoost Optimizado): {accuracy_xgb_opt:.4f}\")\n",
    "print(f\"Precision (XGBoost Optimizado): {precision_xgb_opt:.4f}\")\n",
    "print(f\"Recall (XGBoost Optimizado): {recall_xgb_opt:.4f}\")\n",
    "print(f\"F1-Score (XGBoost Optimizado): {f1_xgb_opt:.4f}\")"
   ]
  },
  {
   "cell_type": "markdown",
   "metadata": {},
   "source": [
    "### 🔎 Comparación de Modelos de Clasificación\n",
    "\n",
    "| Modelo                      | Accuracy  | Precision  | Recall  | F1-Score  |\n",
    "|-----------------------------|-----------|------------|---------|-----------|\n",
    "| **Regresión Logística (Base)** | 70.13% | 58.70% | 50.00% | 54.00% |\n",
    "| **Random Forest (Sin Optimizar)** | 74.03% | 64.00% | 59.26% | 61.54% |\n",
    "| **Random Forest (Optimizado)** | 77.92% | 67.86% | 70.37% | 69.09% |\n",
    "| **AdaBoost** | 75.97% | 68.09% | 59.26% | 63.37% |\n",
    "| **AdaBoost Optimizado** | 74.68% | 65.96% | 57.41% | 61.39% |\n",
    "| **Gradient Boosting** | 74.68% | 66.67% | 55.56% | 60.61% |\n",
    "| **XGBoost** | 77.92% | 70.00% | 64.81% | 67.31% |\n",
    "| **XGBoost Optimizado** | 75.97% | 66.67% | 62.96% | 64.76% |\n"
   ]
  },
  {
   "cell_type": "markdown",
   "metadata": {},
   "source": [
    "Regresión logística y random forest siguen siendo mejores."
   ]
  },
  {
   "cell_type": "markdown",
   "metadata": {},
   "source": [
    "Por último pruebo CatBoost"
   ]
  },
  {
   "cell_type": "code",
   "execution_count": 100,
   "metadata": {},
   "outputs": [
    {
     "name": "stdout",
     "output_type": "stream",
     "text": [
      "Accuracy (CatBoost): 0.7338\n",
      "Precision (CatBoost): 0.6327\n",
      "Recall (CatBoost): 0.5741\n",
      "F1-Score (CatBoost): 0.6019\n"
     ]
    }
   ],
   "source": [
    "# Definimos el modelo de CatBoost\n",
    "cat_model = CatBoostClassifier(iterations=100, learning_rate=0.1, depth=5, verbose=0, random_state=42)\n",
    "\n",
    "# Entrenamos el modelo\n",
    "cat_model.fit(X_train, y_train)\n",
    "\n",
    "# Predicción en el conjunto de prueba\n",
    "y_pred_cat = cat_model.predict(X_test)\n",
    "\n",
    "# Calculamos las métricas\n",
    "accuracy_cat = accuracy_score(y_test, y_pred_cat)\n",
    "precision_cat = precision_score(y_test, y_pred_cat)\n",
    "recall_cat = recall_score(y_test, y_pred_cat)\n",
    "f1_cat = f1_score(y_test, y_pred_cat)\n",
    "\n",
    "# Mostramos los resultados\n",
    "print(f\"Accuracy (CatBoost): {accuracy_cat:.4f}\")\n",
    "print(f\"Precision (CatBoost): {precision_cat:.4f}\")\n",
    "print(f\"Recall (CatBoost): {recall_cat:.4f}\")\n",
    "print(f\"F1-Score (CatBoost): {f1_cat:.4f}\")"
   ]
  },
  {
   "cell_type": "markdown",
   "metadata": {},
   "source": [
    "### 🔎 Comparación de Modelos de Clasificación\n",
    "\n",
    "| Modelo                      | Accuracy  | Precision  | Recall  | F1-Score  |\n",
    "|-----------------------------|-----------|------------|---------|-----------|\n",
    "| **Regresión Logística (Base)** | 70.13% | 58.70% | 50.00% | 54.00% |\n",
    "| **Random Forest (Sin Optimizar)** | 74.03% | 64.00% | 59.26% | 61.54% |\n",
    "| **Random Forest (Optimizado)** | 77.92% | 67.86% | 70.37% | 69.09% |\n",
    "| **AdaBoost** | 75.97% | 68.09% | 59.26% | 63.37% |\n",
    "| **AdaBoost Optimizado** | 74.68% | 65.96% | 57.41% | 61.39% |\n",
    "| **Gradient Boosting** | 74.68% | 66.67% | 55.56% | 60.61% |\n",
    "| **XGBoost** | 77.92% | 70.00% | 64.81% | 67.31% |\n",
    "| **XGBoost Optimizado** | 75.97% | 66.67% | 62.96% | 64.76% |\n",
    "| **CatBoost** | 73.38% | 63.27% | 57.41% | 60.19% |\n"
   ]
  },
  {
   "cell_type": "markdown",
   "metadata": {},
   "source": [
    "Optimizo con Grid search"
   ]
  },
  {
   "cell_type": "code",
   "execution_count": 101,
   "metadata": {},
   "outputs": [
    {
     "name": "stdout",
     "output_type": "stream",
     "text": [
      "Fitting 5 folds for each of 81 candidates, totalling 405 fits\n",
      "Mejores hiperparámetros (CatBoost): {'depth': 7, 'iterations': 100, 'l2_leaf_reg': 3, 'learning_rate': 0.1}\n"
     ]
    }
   ],
   "source": [
    "# Definimos los hiperparámetros a probar\n",
    "param_grid_cat = {\n",
    "    'iterations': [50, 100, 200],  # Número de árboles\n",
    "    'learning_rate': [0.01, 0.1, 0.3],  # Tasa de aprendizaje\n",
    "    'depth': [3, 5, 7],  # Profundidad máxima del árbol\n",
    "    'l2_leaf_reg': [1, 3, 5]  # Regularización L2 para evitar sobreajuste\n",
    "}\n",
    "\n",
    "# Creamos el modelo base de CatBoost\n",
    "cat_base = CatBoostClassifier(verbose=0, random_state=42)\n",
    "\n",
    "# Aplicamos Grid Search con validación cruzada\n",
    "grid_search_cat = GridSearchCV(cat_base, param_grid_cat, cv=5, scoring='f1', n_jobs=-1, verbose=2)\n",
    "\n",
    "# Ejecutamos la búsqueda\n",
    "grid_search_cat.fit(X_train, y_train)\n",
    "\n",
    "# Mostramos los mejores parámetros encontrados\n",
    "print(f\"Mejores hiperparámetros (CatBoost): {grid_search_cat.best_params_}\")"
   ]
  },
  {
   "cell_type": "code",
   "execution_count": 102,
   "metadata": {},
   "outputs": [
    {
     "name": "stdout",
     "output_type": "stream",
     "text": [
      "Accuracy (CatBoost Optimizado): 0.7403\n",
      "Precision (CatBoost Optimizado): 0.6522\n",
      "Recall (CatBoost Optimizado): 0.5556\n",
      "F1-Score (CatBoost Optimizado): 0.6000\n"
     ]
    }
   ],
   "source": [
    "# Definimos el modelo con los hiperparámetros optimizados\n",
    "cat_opt = CatBoostClassifier(\n",
    "    depth=7,\n",
    "    iterations=100,\n",
    "    l2_leaf_reg=3,\n",
    "    learning_rate=0.1,\n",
    "    verbose=0,\n",
    "    random_state=42\n",
    ")\n",
    "\n",
    "# Entrenamos el modelo\n",
    "cat_opt.fit(X_train, y_train)\n",
    "\n",
    "# Hacemos predicciones con el modelo optimizado\n",
    "y_pred_cat_opt = cat_opt.predict(X_test)\n",
    "\n",
    "# Calculamos las métricas\n",
    "accuracy_cat_opt = accuracy_score(y_test, y_pred_cat_opt)\n",
    "precision_cat_opt = precision_score(y_test, y_pred_cat_opt)\n",
    "recall_cat_opt = recall_score(y_test, y_pred_cat_opt)\n",
    "f1_cat_opt = f1_score(y_test, y_pred_cat_opt)\n",
    "\n",
    "# Mostramos los resultados\n",
    "print(f\"Accuracy (CatBoost Optimizado): {accuracy_cat_opt:.4f}\")\n",
    "print(f\"Precision (CatBoost Optimizado): {precision_cat_opt:.4f}\")\n",
    "print(f\"Recall (CatBoost Optimizado): {recall_cat_opt:.4f}\")\n",
    "print(f\"F1-Score (CatBoost Optimizado): {f1_cat_opt:.4f}\")"
   ]
  },
  {
   "cell_type": "markdown",
   "metadata": {},
   "source": [
    "### 🔎 Comparación de Modelos de Clasificación\n",
    "\n",
    "| Modelo                      | Accuracy  | Precision  | Recall  | F1-Score  |\n",
    "|-----------------------------|-----------|------------|---------|-----------|\n",
    "| **Regresión Logística (Base)** | 70.13% | 58.70% | 50.00% | 54.00% |\n",
    "| **Random Forest (Sin Optimizar)** | 74.03% | 64.00% | 59.26% | 61.54% |\n",
    "| **Random Forest (Optimizado)** | 77.92% | 67.86% | 70.37% | 69.09% |\n",
    "| **AdaBoost** | 75.97% | 68.09% | 59.26% | 63.37% |\n",
    "| **AdaBoost Optimizado** | 74.68% | 65.96% | 57.41% | 61.39% |\n",
    "| **Gradient Boosting** | 74.68% | 66.67% | 55.56% | 60.61% |\n",
    "| **XGBoost** | 77.92% | 70.00% | 64.81% | 67.31% |\n",
    "| **XGBoost Optimizado** | 75.97% | 66.67% | 62.96% | 64.76% |\n",
    "| **CatBoost** | 73.38% | 63.27% | 57.41% | 60.19% |\n",
    "| **CatBoost Optimizado** | 74.03% | 65.22% | 55.56% | 60.00% |\n"
   ]
  },
  {
   "cell_type": "markdown",
   "metadata": {},
   "source": [
    "Comparación de modelos con validación cruzada"
   ]
  },
  {
   "cell_type": "code",
   "execution_count": 103,
   "metadata": {},
   "outputs": [
    {
     "name": "stdout",
     "output_type": "stream",
     "text": [
      "Regresión Logística: F1-Score promedio = 0.6610 ± 0.0236\n",
      "Random Forest Optimizado: F1-Score promedio = 0.6887 ± 0.0372\n",
      "AdaBoost Optimizado: F1-Score promedio = 0.6332 ± 0.0279\n",
      "Gradient Boosting: F1-Score promedio = 0.6333 ± 0.0566\n",
      "XGBoost Optimizado: F1-Score promedio = 0.6351 ± 0.0473\n",
      "CatBoost Optimizado: F1-Score promedio = 0.6530 ± 0.0746\n"
     ]
    }
   ],
   "source": [
    "\n",
    "\n",
    "# Lista de modelos a comparar\n",
    "modelos = {\n",
    "    \"Regresión Logística\": logistic_model,\n",
    "    \"Random Forest Optimizado\": best_model,\n",
    "    \"AdaBoost Optimizado\": ada_opt,\n",
    "    \"Gradient Boosting\": gb_model,\n",
    "    \"XGBoost Optimizado\": xgb_opt,\n",
    "    \"CatBoost Optimizado\": cat_opt\n",
    "}\n",
    "\n",
    "# Evaluamos cada modelo con validación cruzada\n",
    "for nombre, modelo in modelos.items():\n",
    "    scores = cross_val_score(modelo, X_train, y_train, cv=5, scoring='f1')\n",
    "    print(f\"{nombre}: F1-Score promedio = {scores.mean():.4f} ± {scores.std():.4f}\")"
   ]
  },
  {
   "cell_type": "markdown",
   "metadata": {},
   "source": [
    "Si se busca la mejor capacidad de detectar correctamente los casos de diabetes nos quedamos con un Random Forest Optimizado."
   ]
  },
  {
   "cell_type": "markdown",
   "metadata": {},
   "source": []
  }
 ],
 "metadata": {
  "colab": {
   "name": "EDA-Intro-visualization_MatplotLib.ipynb",
   "provenance": []
  },
  "kernelspec": {
   "display_name": "Python 3",
   "language": "python",
   "name": "python3"
  },
  "language_info": {
   "codemirror_mode": {
    "name": "ipython",
    "version": 3
   },
   "file_extension": ".py",
   "mimetype": "text/x-python",
   "name": "python",
   "nbconvert_exporter": "python",
   "pygments_lexer": "ipython3",
   "version": "3.12.9"
  }
 },
 "nbformat": 4,
 "nbformat_minor": 4
}
